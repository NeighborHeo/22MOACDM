{
 "cells": [
  {
   "attachments": {},
   "cell_type": "markdown",
   "metadata": {},
   "source": [
    "# 03_occurrence_period_distribution"
   ]
  },
  {
   "cell_type": "code",
   "execution_count": null,
   "metadata": {},
   "outputs": [],
   "source": [
    "import os\n",
    "import sys\n",
    "import json\n",
    "import pathlib\n",
    "sys.path.append(\"..\")\n",
    "\n",
    "import numpy as np\n",
    "import pandas as pd\n",
    "import matplotlib.pyplot as plt\n",
    "import seaborn as sns\n",
    "from tqdm import tqdm\n",
    "from datetime import timedelta\n",
    "import traceback\n",
    "\n",
    "current_dir = pathlib.Path.cwd()\n",
    "parent_dir = current_dir.parent\n",
    "with open(parent_dir.joinpath(\"config.json\")) as file:\n",
    "    cfg = json.load(file)"
   ]
  },
  {
   "cell_type": "code",
   "execution_count": null,
   "metadata": {},
   "outputs": [],
   "source": [
    "from sqlalchemy import create_engine\n",
    "from sqlalchemy.orm import sessionmaker\n",
    "\n",
    "driver = cfg[\"dbms\"]\n",
    "db_cfg = cfg[driver]\n",
    "username = db_cfg[\"@user\"]\n",
    "password = db_cfg[\"@password\"]\n",
    "host = db_cfg[\"@server\"]\n",
    "port = db_cfg[\"@port\"]\n",
    "database = db_cfg[\"@database\"]\n",
    "if cfg[\"dbms\"] == \"mssql\":\n",
    "    sqldriver = \"mssql+pymssql\"\n",
    "elif cfg[\"dbms\"] == \"postgresql\":\n",
    "    sqldriver = \"postgresql+psycopg2\"\n",
    "url = f\"{sqldriver}://{username}:{password}@{host}:{port}/{database}\"\n",
    "engine = create_engine(url, echo=False)\n",
    "sessionlocal = sessionmaker(autocommit=False, autoflush=True, bind=engine)"
   ]
  },
  {
   "cell_type": "code",
   "execution_count": null,
   "metadata": {},
   "outputs": [],
   "source": [
    "drug_order = [\"Acetaminophen\", \"Vancomycin\", \"Naproxen\", \"Celecoxib\", \"Acyclovir\"]"
   ]
  },
  {
   "cell_type": "code",
   "execution_count": null,
   "metadata": {},
   "outputs": [],
   "source": [
    "def executeQuerynfetchall(engine, sql_query):\n",
    "    \"\"\"\n",
    "        SQL 쿼리 실행 후 결과를 반환하는 함수\n",
    "    \"\"\"\n",
    "    result = None\n",
    "    try:\n",
    "        with engine.connect() as conn:\n",
    "            result = conn.execute(sql_query)\n",
    "            result = result.fetchall()\n",
    "        # engine.commit()\n",
    "    except:\n",
    "        traceback.print_exc()\n",
    "    return result"
   ]
  },
  {
   "attachments": {},
   "cell_type": "markdown",
   "metadata": {},
   "source": [
    "### 1. distribution of duration of abnormal"
   ]
  },
  {
   "cell_type": "code",
   "execution_count": null,
   "metadata": {},
   "outputs": [],
   "source": [
    "def get_result_of_occurrence_period(engine, drug_name, psm=False):\n",
    "    SQL = \"\"\"SELECT n_diff FROM {@person_database_schema}.{@target_person_table} WHERE n_diff IS NOT NULL\"\"\"\n",
    "    sql_param_dict = {}\n",
    "    sql_param_dict[\"@person_database_schema\"] = db_cfg[\"@person_database_schema\"]\n",
    "    sql_param_dict[\"@target_person_table\"] = f\"person_{drug_name}\" if not psm else f\"person_{drug_name}_psm\"\n",
    "    query = SQL.format(**sql_param_dict)\n",
    "    values = executeQuerynfetchall(engine, query)\n",
    "    if values is None:\n",
    "        return None\n",
    "    values = [value[0] for value in values]\n",
    "    return values"
   ]
  },
  {
   "cell_type": "code",
   "execution_count": null,
   "metadata": {},
   "outputs": [],
   "source": [
    "occur_period_dict = {}\n",
    "for drug_name in cfg[\"drug\"].keys():\n",
    "    values = get_result_of_occurrence_period(engine, drug_name)\n",
    "    if values != None and len(values) >= 20:\n",
    "        occur_period_dict[drug_name] = values"
   ]
  },
  {
   "cell_type": "code",
   "execution_count": null,
   "metadata": {},
   "outputs": [],
   "source": [
    "\n",
    "result_dir = current_dir.joinpath(\"result\")\n",
    "result_dir.mkdir(parents=True, exist_ok=True)\n",
    "\n",
    "with open(result_dir.joinpath(\"occurrence_period_distribution.json\"), \"w\") as f:\n",
    "    json.dump(occur_period_dict, f, indent=2)"
   ]
  },
  {
   "cell_type": "code",
   "execution_count": null,
   "metadata": {},
   "outputs": [],
   "source": [
    "result_dir = current_dir.joinpath(\"result\")\n",
    "result_dir.mkdir(parents=True, exist_ok=True)\n",
    "\n",
    "with open(result_dir.joinpath(\"occurrence_period_distribution.json\")) as f:\n",
    "    occur_period_dict = json.load(f)"
   ]
  },
  {
   "cell_type": "code",
   "execution_count": null,
   "metadata": {},
   "outputs": [],
   "source": [
    "# save figures \n",
    "drug_counts = len(drug_order)\n",
    "fig = plt.figure(figsize=(5*drug_counts, 2))\n",
    "for i, drug_name in enumerate(tqdm(drug_order)):\n",
    "    drug_index = drug_order.index(drug_name)\n",
    "    ax = plt.subplot(1, drug_counts, drug_index+1)\n",
    "    if drug_name not in occur_period_dict.keys():\n",
    "        sns.histplot([], kde=False, bins=60, color=\"blue\", alpha=0.3, label=drug_name)\n",
    "        ax.set_xlim(-1, 61)\n",
    "        ax.set_xlabel(\"days\")\n",
    "        ax.set_ylabel(\"number of patients\")\n",
    "        continue\n",
    "    values = occur_period_dict[drug_name]\n",
    "    sns.histplot(values, kde=False, bins=60, color=\"blue\", alpha=0.3, label=drug_name)\n",
    "    mean, std, median = np.mean(values), np.std(values), np.median(values)\n",
    "    count = len(values)\n",
    "    iqr_low, iqr_high = np.quantile(values, 0.25), np.quantile(values, 0.75)\n",
    "    ax.axvline(median, color=\"red\", linestyle=\"--\", label=\"median\")\n",
    "    ax.text(0.98, 0.95, f\"median: {median:.1f} day ({iqr_low:.1f}-{iqr_high:.1f})\", transform=plt.gca().transAxes, fontsize=12, verticalalignment=\"top\", horizontalalignment=\"right\")\n",
    "    ax.text(0.98, 0.8, f\"{count} patients\", transform=plt.gca().transAxes, fontsize=12, verticalalignment=\"top\", horizontalalignment=\"right\")\n",
    "    ax.set_xlim(-1, 61)\n",
    "    ax.set_xlabel(\"days\")\n",
    "    ax.set_ylabel(\"number of patients\")\n",
    "\n",
    "plt.savefig(result_dir.joinpath(\"occurrence_period_distribution.png\"), dpi=300, bbox_inches=\"tight\")\n",
    "plt.show()"
   ]
  },
  {
   "cell_type": "code",
   "execution_count": null,
   "metadata": {},
   "outputs": [],
   "source": [
    "# save figures \n",
    "drug_counts = len(drug_order)\n",
    "fig = plt.figure(figsize=(5*drug_counts, 2))\n",
    "for i, drug_name in enumerate(tqdm(drug_order)):\n",
    "    drug_index = drug_order.index(drug_name)\n",
    "    ax = plt.subplot(1, drug_counts, drug_index+1)\n",
    "    if drug_name not in occur_period_dict.keys():\n",
    "        sns.histplot([], kde=False, bins=60, color=\"blue\", alpha=0.3, label=drug_name)\n",
    "        ax.set_xlim(-1, 61)\n",
    "        ax.set_xlabel(\"days\")\n",
    "        ax.set_ylabel(\"number of patients\")\n",
    "        continue\n",
    "    sns.histplot([], kde=False, bins=60, color=\"blue\", alpha=0.3, label=drug_name)\n",
    "    ax.set_xlim(-1, 61)\n",
    "    ax.set_xlabel(\"days\")\n",
    "    ax.set_ylabel(\"number of patients\")\n",
    "\n",
    "plt.savefig(result_dir.joinpath(\"occurrence_period_distribution2.png\"), dpi=300, bbox_inches=\"tight\")\n",
    "plt.show()"
   ]
  },
  {
   "cell_type": "code",
   "execution_count": null,
   "metadata": {},
   "outputs": [],
   "source": []
  }
 ],
 "metadata": {
  "kernelspec": {
   "display_name": ".venv",
   "language": "python",
   "name": "python3"
  },
  "language_info": {
   "codemirror_mode": {
    "name": "ipython",
    "version": 3
   },
   "file_extension": ".py",
   "mimetype": "text/x-python",
   "name": "python",
   "nbconvert_exporter": "python",
   "pygments_lexer": "ipython3",
   "version": "3.7.13 (default, May 15 2022, 21:08:37) \n[GCC 9.3.1 20200408 (Red Hat 9.3.1-2)]"
  },
  "orig_nbformat": 4,
  "vscode": {
   "interpreter": {
    "hash": "65a9df8dabcfad470e190f31aab646891f837e6d422cdbd7188428f094f05b09"
   }
  }
 },
 "nbformat": 4,
 "nbformat_minor": 2
}
