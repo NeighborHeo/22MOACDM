{
 "cells": [
  {
   "cell_type": "markdown",
   "metadata": {},
   "source": [
    "# 04_summary"
   ]
  },
  {
   "cell_type": "code",
   "execution_count": null,
   "metadata": {},
   "outputs": [],
   "source": [
    "# 1) total number of patients in the cohort"
   ]
  },
  {
   "cell_type": "code",
   "execution_count": null,
   "metadata": {},
   "outputs": [],
   "source": [
    "import os\n",
    "import sys\n",
    "import json\n",
    "import pathlib\n",
    "sys.path.append(\"..\")\n",
    "\n",
    "import numpy as np\n",
    "import pandas as pd\n",
    "import matplotlib.pyplot as plt\n",
    "import seaborn as sns\n",
    "from tqdm import tqdm\n",
    "from datetime import timedelta\n",
    "import traceback\n",
    "\n",
    "current_dir = pathlib.Path.cwd()\n",
    "parent_dir = current_dir.parent\n",
    "with open(parent_dir.joinpath(\"config.json\")) as file:\n",
    "    cfg = json.load(file)\n",
    "with open(current_dir.joinpath(\"demographics.json\")) as file:\n",
    "    dg_cfg = json.load(file)"
   ]
  },
  {
   "cell_type": "code",
   "execution_count": null,
   "metadata": {},
   "outputs": [],
   "source": [
    "import pathlib\n",
    "result_dir = current_dir.joinpath(\"result\", \"psm\")\n",
    "with open(result_dir.joinpath(\"number_of_patients.json\")) as file:\n",
    "    summary = json.load(file)"
   ]
  },
  {
   "cell_type": "code",
   "execution_count": null,
   "metadata": {},
   "outputs": [],
   "source": [
    "# n_patients_df = pd.DataFrame()\n",
    "# eject n total patients \n",
    "if \"n_total_patients\" in summary:\n",
    "    n_total_patients = summary.pop(\"n_total_patients\")\n",
    "n_patients_df = pd.DataFrame.from_dict(summary, orient=\"index\")\n",
    "n_patients_df.rename(columns={\"False\": \"control\", \"True\": \"case\"}, inplace=True)\n",
    "n_patients_df.loc[\"total\"] = n_patients_df.sum()\n",
    "n_patients_df "
   ]
  },
  {
   "cell_type": "code",
   "execution_count": null,
   "metadata": {},
   "outputs": [],
   "source": [
    "with open(result_dir.joinpath(\"demographics_for_condition_occurrence.json\")) as file:\n",
    "    demographics_condition = json.load(file)\n",
    "df_dict = {}\n",
    "for condition in demographics_condition:\n",
    "    cond_df = pd.DataFrame.from_dict(demographics_condition[condition], orient=\"index\")\n",
    "    cond_df.rename(columns={\"False\": \"control\", \"True\": \"case\"}, inplace=True)\n",
    "        # cond_df['case_rate'] = cond_df['case'] / n_patients_df.loc[condition, 'total']\n",
    "        # cond_df['control_rate'] = cond_df['control'] / n_patients_df.loc[condition, 'total']\n",
    "    df_dict[condition] = cond_df\n",
    "df_dict"
   ]
  },
  {
   "cell_type": "code",
   "execution_count": null,
   "metadata": {},
   "outputs": [],
   "source": [
    "concat_df = pd.concat(df_dict, axis=0)\n",
    "concat_df.reset_index(inplace=True)\n",
    "concat_df.rename(columns={\"level_0\": \"condition\", \"level_1\": \"demographic\"}, inplace=True)\n",
    "concat_df['n_case'] = n_patients_df.loc[concat_df['condition'].apply(lambda x: x.lower()), 'case'].values\n",
    "concat_df['n_control'] = n_patients_df.loc[concat_df['condition'].apply(lambda x: x.lower()), 'control'].values\n",
    "concat_df['case_rate'] = concat_df['case'] / concat_df['n_case'] * 100\n",
    "concat_df['control_rate'] = concat_df['control'] / concat_df['n_control'] * 100\n",
    "concat_df.head()"
   ]
  },
  {
   "cell_type": "code",
   "execution_count": null,
   "metadata": {},
   "outputs": [],
   "source": [
    "# summation of each condition\n",
    "concat_df = concat_df.groupby(\"demographic\").sum()\n",
    "concat_df['case_rate'] = (concat_df['case'] / concat_df['n_case'] * 100).round(2)\n",
    "concat_df['control_rate'] = (concat_df['control'] / concat_df['n_control'] * 100).round(2)\n",
    "concat_df['str_control'] = concat_df['control'].astype(str) + \" (\" + concat_df['control_rate'].astype(str) + \"%)\"\n",
    "concat_df['str_case'] = concat_df['case'].astype(str) + \" (\" + concat_df['case_rate'].astype(str) + \"%)\"\n",
    "concat_df.to_csv(result_dir.joinpath(\"demographics_for_condition_occurrence.csv\"))\n",
    "concat_df"
   ]
  },
  {
   "cell_type": "code",
   "execution_count": null,
   "metadata": {},
   "outputs": [],
   "source": [
    "with open(result_dir.joinpath(\"demographics_for_measurement.json\")) as file:\n",
    "    demographics_measurement = json.load(file)\n",
    "df_dict = {}\n",
    "for measurement in demographics_measurement:\n",
    "    meas_df = pd.DataFrame.from_dict(demographics_measurement[measurement], orient=\"index\")\n",
    "    meas_df.rename(columns={\"False\": \"control\", \"True\": \"case\"}, inplace=True)\n",
    "    df_dict[measurement] = meas_df\n",
    "df_dict"
   ]
  },
  {
   "cell_type": "code",
   "execution_count": null,
   "metadata": {},
   "outputs": [],
   "source": [
    "concat_df = pd.concat(df_dict, axis=0)\n",
    "concat_df.reset_index(inplace=True)\n",
    "concat_df.rename(columns={\"level_0\": \"measurement\", \"level_1\": \"demographic\"}, inplace=True)\n",
    "concat_df['case_mean'] = concat_df['case'].apply(lambda x: np.array(x, dtype=np.float32)[~np.isnan(np.array(x, dtype=np.float32))].mean())\n",
    "concat_df['case_std'] = concat_df['case'].apply(lambda x: np.array(x, dtype=np.float32)[~np.isnan(np.array(x, dtype=np.float32))].std())\n",
    "concat_df['control_std'] = concat_df['control'].apply(lambda x: np.array(x, dtype=np.float32)[~np.isnan(np.array(x, dtype=np.float32))].std())\n",
    "concat_df['control_mean'] = concat_df['control'].apply(lambda x: np.array(x, dtype=np.float32)[~np.isnan(np.array(x, dtype=np.float32))].mean())\n",
    "concat_df['str_case'] = concat_df.apply(lambda x: str(round(x['case_mean'], 2)) + \" ± \" + str(round(x['case_std'], 2)), axis=1)\n",
    "concat_df['str_control'] = concat_df.apply(lambda x: str(round(x['control_mean'], 2)) + \" ± \" + str(round(x['control_std'], 2)), axis=1)\n",
    "concat_df[['measurement', 'demographic', 'str_case', 'str_control']].pivot(index='measurement', columns='demographic', values=['str_case', 'str_control']).T"
   ]
  },
  {
   "cell_type": "code",
   "execution_count": null,
   "metadata": {},
   "outputs": [],
   "source": [
    "concat_df = pd.concat(df_dict, axis=0)\n",
    "concat_df.reset_index(inplace=True)\n",
    "concat_df.rename(columns={\"level_0\": \"drug\", \"level_1\": \"demographic\"}, inplace=True)\n",
    "# extend lists of case and control\n",
    "concat_df = concat_df.groupby('demographic').apply(lambda x: x.sum())\n",
    "concat_df.drop(columns=['drug', 'demographic'], inplace=True)\n",
    "\n",
    "concat_df['case_mean'] = concat_df['case'].apply(lambda x: np.array(x, dtype=np.float32)[~np.isnan(np.array(x, dtype=np.float32))].mean())\n",
    "concat_df['case_std'] = concat_df['case'].apply(lambda x: np.array(x, dtype=np.float32)[~np.isnan(np.array(x, dtype=np.float32))].std())\n",
    "concat_df['control_std'] = concat_df['control'].apply(lambda x: np.array(x, dtype=np.float32)[~np.isnan(np.array(x, dtype=np.float32))].std())\n",
    "concat_df['control_mean'] = concat_df['control'].apply(lambda x: np.array(x, dtype=np.float32)[~np.isnan(np.array(x, dtype=np.float32))].mean())   \n",
    "concat_df['str_case'] = concat_df.apply(lambda x: str(round(x['case_mean'], 2)) + \" ± \" + str(round(x['case_std'], 2)), axis=1)\n",
    "concat_df['str_control'] = concat_df.apply(lambda x: str(round(x['control_mean'], 2)) + \" ± \" + str(round(x['control_std'], 2)), axis=1)\n",
    "concat_df[['str_case', 'str_control']]\n",
    "concat_df.to_csv(result_dir.joinpath(\"demographics_for_measurement.csv\"))\n",
    "concat_df"
   ]
  },
  {
   "cell_type": "code",
   "execution_count": null,
   "metadata": {},
   "outputs": [],
   "source": [
    "with open(result_dir.joinpath(\"demographics_for_patient_info.json\")) as file:\n",
    "    demographics_patient_info = json.load(file)\n",
    "    demographics_patient_info = demographics_patient_info.pop('patient_info')"
   ]
  },
  {
   "cell_type": "code",
   "execution_count": null,
   "metadata": {},
   "outputs": [],
   "source": [
    "# for Age\n",
    "concat_df = pd.DataFrame()\n",
    "for key in demographics_patient_info:\n",
    "    df = pd.DataFrame.from_dict(demographics_patient_info[key], orient=\"index\")\n",
    "    df.rename(columns={\"False\": \"control\", \"True\": \"case\"}, inplace=True)\n",
    "    df[\"drug\"] = key\n",
    "    concat_df = pd.concat([concat_df, df], axis=0)    "
   ]
  },
  {
   "cell_type": "code",
   "execution_count": null,
   "metadata": {},
   "outputs": [],
   "source": [
    "age_df = concat_df.loc[concat_df.index.str.contains(\"age\")].copy()\n",
    "calc_mean = (lambda x: np.array(x, dtype=np.float32)[~np.isnan(np.array(x, dtype=np.float32))].mean()) \n",
    "calc_std = (lambda x: np.array(x, dtype=np.float32)[~np.isnan(np.array(x, dtype=np.float32))].std())\n",
    "age_df['case_mean'] = age_df['case'].apply(calc_mean)\n",
    "age_df['case_std'] = age_df['case'].apply(calc_std)\n",
    "age_df['control_mean'] = age_df['control'].apply(calc_mean)   \n",
    "age_df['control_std'] = age_df['control'].apply(calc_std)\n",
    "age_df[\"str_case\"] = age_df.apply(lambda x: str(round(x['case_mean'], 2)) + \" ± \" + str(round(x['case_std'], 2)), axis=1)\n",
    "age_df[\"str_control\"] = age_df.apply(lambda x: str(round(x['control_mean'], 2)) + \" ± \" + str(round(x['control_std'], 2)), axis=1)\n",
    "age_df.loc[:, [\"drug\", \"str_case\", \"str_control\"]]"
   ]
  },
  {
   "cell_type": "code",
   "execution_count": null,
   "metadata": {},
   "outputs": [],
   "source": [
    "gender_df = concat_df.loc[concat_df.index.str.contains(\"gender\")].copy()\n",
    "gender_df[\"case\"] \n",
    "gender_df[\"str_case\"] = gender_df[\"case\"].apply(lambda x: str(x.count(\"M\")) +\" / \"+ str(x.count(\"F\")))\n",
    "gender_df[\"str_control\"] = gender_df[\"control\"].apply(lambda x: str(x.count(\"M\")) +\" / \"+ str(x.count(\"F\")))\n",
    "gender_df.loc[:, [\"drug\", \"str_case\", \"str_control\"]]"
   ]
  },
  {
   "cell_type": "code",
   "execution_count": null,
   "metadata": {},
   "outputs": [],
   "source": []
  }
 ],
 "metadata": {
  "kernelspec": {
   "display_name": ".venv",
   "language": "python",
   "name": "python3"
  },
  "language_info": {
   "codemirror_mode": {
    "name": "ipython",
    "version": 3
   },
   "file_extension": ".py",
   "mimetype": "text/x-python",
   "name": "python",
   "nbconvert_exporter": "python",
   "pygments_lexer": "ipython3",
   "version": "3.7.13"
  },
  "orig_nbformat": 4,
  "vscode": {
   "interpreter": {
    "hash": "65a9df8dabcfad470e190f31aab646891f837e6d422cdbd7188428f094f05b09"
   }
  }
 },
 "nbformat": 4,
 "nbformat_minor": 2
}
